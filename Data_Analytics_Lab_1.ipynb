{
  "nbformat": 4,
  "nbformat_minor": 0,
  "metadata": {
    "colab": {
      "provenance": []
    },
    "kernelspec": {
      "name": "python3",
      "display_name": "Python 3"
    },
    "language_info": {
      "name": "python"
    }
  },
  "cells": [
    {
      "cell_type": "code",
      "source": [
        "def read_file():\n",
        "  ifile = open('bank.csv','r')\n",
        "  ds = ifile.readlines()\n",
        "  ifile.close()\n",
        "  return ds\n",
        "\n",
        "def print_header():\n",
        "  ds = read()\n",
        "  headers = ds[0]\n",
        "  headers = headers.split(\";\")\n",
        "  print (\"{:<20}\".format('Headers:'))\n",
        "  for k in headers:\n",
        "    print (\"{:20}\".format(k))\n",
        "\n",
        "def count_marital_status():\n",
        "  ds = read()\n",
        "  marital_status = []\n",
        "  for i in range(1,len(ds)):\n",
        "    df = ds[i].split(\";\")\n",
        "    marital_status.append(da[2])\n",
        "  d = {}\n",
        "  for i in marital_status:\n",
        "    d[i] = d.get(i,0) + 1\n",
        "\n",
        "  print(\"The count of Marital status of Customers is as given below:\")\n",
        "\n",
        "  print (\"{:<20} {:<15}\".format('Marital Status','Count'))\n",
        "  for k, v in d.items():\n",
        "      marit = v\n",
        "    print (\"{:<20} {:<15}\".format(k,marit))"
      ],
      "metadata": {
        "id": "hz9MSQj6ISrI"
      },
      "execution_count": null,
      "outputs": []
    },
    {
      "cell_type": "code",
      "source": [
        "def count_age():\n",
        "  data = read()\n",
        "  age = []\n",
        "  for i in range(1,len(ds)):\n",
        "    df = data[i].split(\";\")\n",
        "    age.append(df[0])\n",
        "\n",
        "  d = {}\n",
        "  for i in age:\n",
        "    d[int(i)] = d.get(int(i),0) + 1\n",
        "\n",
        "  n = int(input(\"Enter Basket size \"))\n",
        "\n",
        "  print()\n",
        "\n",
        "  print(\"The histogram of age distribution is as follows:\")\n",
        "\n",
        "  l = [i for i in range(19,88,n)]\n",
        "  di2 = {}\n",
        "  for i in li:\n",
        "    di2[i] = 0\n",
        "    for j in range(i,i+10):\n",
        "      if(j <= 87):\n",
        "        di[j] = di.get(j,0)\n",
        "        di2[i] += di[j]\n",
        "\n",
        "  ma = max(list(di2.values()))\n",
        "  sc = 50/ma\n",
        "\n",
        "  di3 = {}\n",
        "\n",
        "  for i in di2:\n",
        "    di3[i] = int(sc * di2[i])\n",
        "\n",
        "  for i in range(len(li)):\n",
        "    print(li[i],\"-\",(li[i]+n),\"\\t\",end = '')\n",
        "    for j in range(di3[li[i]]):\n",
        "      print('|',end ='')\n",
        "print()"
      ],
      "metadata": {
        "id": "ezCmwK5vHT_8"
      },
      "execution_count": null,
      "outputs": []
    }
  ]
}